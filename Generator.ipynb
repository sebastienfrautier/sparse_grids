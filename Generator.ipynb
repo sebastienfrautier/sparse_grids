{
 "cells": [
  {
   "cell_type": "code",
   "execution_count": 1,
   "metadata": {
    "collapsed": true
   },
   "outputs": [],
   "source": [
    "from lxml import etree"
   ]
  },
  {
   "cell_type": "code",
   "execution_count": 9,
   "metadata": {},
   "outputs": [
    {
     "name": "stdout",
     "output_type": "stream",
     "text": [
      "<molecular-dynamics>\n",
      "  <molecule-configuration/>\n",
      "  <domain-configuration/>\n",
      "  <simulation-configuration/>\n",
      "  <mpi-configuration/>\n",
      "  <molecule-configuration/>\n",
      "  <child>some text</child>\n",
      "</molecular-dynamics>\n",
      "\n"
     ]
    }
   ],
   "source": [
    "# create XML \n",
    "root = etree.Element('molecular-dynamics')\n",
    "\n",
    "top_level = [\"molecule\",\"domain\",\"simulation\",\"mpi\"]\n",
    "below_level = \n",
    "value_range = \n",
    "\n",
    "[root.append(etree.Element(ele+'-configuration')) for ele in top_level]\n",
    "\n",
    "\n",
    "\n",
    "\n",
    "\n",
    "# another child with text\n",
    "child = etree.Element('child')\n",
    "child.text = 'some text'\n",
    "root.append(child)\n",
    "\n",
    "# pretty string\n",
    "s = etree.tostring(root, pretty_print=True)\n",
    "print s"
   ]
  },
  {
   "cell_type": "code",
   "execution_count": 7,
   "metadata": {},
   "outputs": [
    {
     "name": "stdout",
     "output_type": "stream",
     "text": [
      "<molecular-dynamics>\n",
      "  <molecule-configuration/>\n",
      "  <child>some text</child>\n",
      "</molecular-dynamics>\n",
      "\n"
     ]
    }
   ],
   "source": [
    "s = etree.tostring(root, pretty_print=True)\n",
    "print s"
   ]
  },
  {
   "cell_type": "code",
   "execution_count": null,
   "metadata": {
    "collapsed": true
   },
   "outputs": [],
   "source": []
  }
 ],
 "metadata": {
  "kernelspec": {
   "display_name": "Python 2",
   "language": "python",
   "name": "python2"
  },
  "language_info": {
   "codemirror_mode": {
    "name": "ipython",
    "version": 2
   },
   "file_extension": ".py",
   "mimetype": "text/x-python",
   "name": "python",
   "nbconvert_exporter": "python",
   "pygments_lexer": "ipython2",
   "version": "2.7.10"
  }
 },
 "nbformat": 4,
 "nbformat_minor": 2
}
