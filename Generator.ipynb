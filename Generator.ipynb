{
 "cells": [
  {
   "cell_type": "code",
   "execution_count": 13,
   "metadata": {
    "collapsed": true
   },
   "outputs": [],
   "source": [
    "from lxml import etree\n",
    "import numpy as np"
   ]
  },
  {
   "cell_type": "code",
   "execution_count": 56,
   "metadata": {},
   "outputs": [
    {
     "name": "stdout",
     "output_type": "stream",
     "text": [
      "<molecular-dynamics>\n",
      "  <molecule-configuration a=\"2\"/>\n",
      "  <domain-configuration a=\"2\"/>\n",
      "  <simulation-configuration a=\"2\"/>\n",
      "  <mpi-configuration a=\"2\"/>\n",
      "</molecular-dynamics>\n",
      "\n"
     ]
    }
   ],
   "source": [
    "# create XML \n",
    "root = etree.Element('molecular-dynamics')\n",
    "\n",
    "top_level = [\"molecule\",\"domain\",\"simulation\",\"mpi\"]\n",
    "domain_level = ['molecules-per-direction', 'domain-size', 'domain-offset','cutoff-radius','linked-cell-size','k_b','block-size']\n",
    "cutoff_radius_range = np.linspace(0,5,100)\n",
    "\n",
    "[root.append(etree.Element(ele+'-configuration', a=\"2\")) for ele in top_level]\n",
    "\n",
    "\n",
    "\n",
    "# another child with text\n",
    "#child = etree.Element('child')\n",
    "#child.text = 'some text'\n",
    "#root.append(child)\n",
    "\n",
    "# pretty string\n",
    "s = etree.tostring(root, pretty_print=True)\n",
    "print s"
   ]
  },
  {
   "cell_type": "code",
   "execution_count": 48,
   "metadata": {},
   "outputs": [
    {
     "data": {
      "text/plain": [
       "'domain'"
      ]
     },
     "execution_count": 48,
     "metadata": {},
     "output_type": "execute_result"
    }
   ],
   "source": [
    "top_level[1]"
   ]
  },
  {
   "cell_type": "code",
   "execution_count": 7,
   "metadata": {},
   "outputs": [
    {
     "name": "stdout",
     "output_type": "stream",
     "text": [
      "<molecular-dynamics>\n",
      "  <molecule-configuration/>\n",
      "  <child>some text</child>\n",
      "</molecular-dynamics>\n",
      "\n"
     ]
    }
   ],
   "source": [
    "s = etree.tostring(root, pretty_print=True)\n",
    "print s"
   ]
  },
  {
   "cell_type": "code",
   "execution_count": null,
   "metadata": {
    "collapsed": true
   },
   "outputs": [],
   "source": []
  }
 ],
 "metadata": {
  "kernelspec": {
   "display_name": "Python 2",
   "language": "python",
   "name": "python2"
  },
  "language_info": {
   "codemirror_mode": {
    "name": "ipython",
    "version": 2
   },
   "file_extension": ".py",
   "mimetype": "text/x-python",
   "name": "python",
   "nbconvert_exporter": "python",
   "pygments_lexer": "ipython2",
   "version": "2.7.10"
  }
 },
 "nbformat": 4,
 "nbformat_minor": 2
}
