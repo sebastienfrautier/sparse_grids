{
 "cells": [
  {
   "cell_type": "code",
   "execution_count": 1,
   "metadata": {},
   "outputs": [],
   "source": [
    "import pysgpp\n",
    "import pandas as pd\n",
    "import matplotlib.pyplot as plt"
   ]
  },
  {
   "cell_type": "code",
   "execution_count": 2,
   "metadata": {},
   "outputs": [
    {
     "data": {
      "image/png": "[encoded data removed]",
      "text/plain": [
       "<matplotlib.figure.Figure at 0x7f881b951dd0>"
      ]
     },
     "metadata": {},
     "output_type": "display_data"
    },
    {
     "data": {
      "image/png": "[encoded data removed]",
      "text/plain": [
       "<matplotlib.figure.Figure at 0x7f88195dc990>"
      ]
     },
     "metadata": {},
     "output_type": "display_data"
    }
   ],
   "source": [
    "for t in ['BLOCK_SIZE', 'CUTOFF_RADIUS']:\n",
    "    df = pd.read_csv('{0}_times.csv'.format(t), header = None, names = ['radius', 'time'])\n",
    "    plt.scatter(df.radius, df.time);\n",
    "    plt.title(t)\n",
    "    plt.show()"
   ]
  },
  {
   "cell_type": "code",
   "execution_count": 3,
   "metadata": {},
   "outputs": [],
   "source": [
    "f = lambda x0, x1: 16.0 * (x0 - 1.0) * x0 * (x1 - 1.0) * x1"
   ]
  },
  {
   "cell_type": "code",
   "execution_count": 4,
   "metadata": {},
   "outputs": [],
   "source": [
    "dim = 2\n",
    "grid = pysgpp.Grid.createLinearGrid(dim)"
   ]
  },
  {
   "cell_type": "code",
   "execution_count": 5,
   "metadata": {},
   "outputs": [
    {
     "name": "stdout",
     "output_type": "stream",
     "text": [
      "dimensionality:         2\n"
     ]
    }
   ],
   "source": [
    "gridStorage = grid.getStorage()\n",
    "print \"dimensionality:         {}\".format(gridStorage.getDimension())\n"
   ]
  },
  {
   "cell_type": "code",
   "execution_count": 6,
   "metadata": {},
   "outputs": [
    {
     "name": "stdout",
     "output_type": "stream",
     "text": [
      "number of grid points:  17\n"
     ]
    }
   ],
   "source": [
    "level = 3\n",
    "grid.getGenerator().regular(level)\n",
    "print \"number of grid points:  {}\".format(gridStorage.getSize())\n"
   ]
  },
  {
   "cell_type": "code",
   "execution_count": 7,
   "metadata": {},
   "outputs": [
    {
     "name": "stdout",
     "output_type": "stream",
     "text": [
      "length of alpha vector: 17\n"
     ]
    }
   ],
   "source": [
    "alpha = pysgpp.DataVector(gridStorage.getSize())\n",
    "alpha.setAll(0.0)\n",
    "print \"length of alpha vector: {}\".format(len(alpha))\n"
   ]
  },
  {
   "cell_type": "code",
   "execution_count": 8,
   "metadata": {},
   "outputs": [
    {
     "name": "stdout",
     "output_type": "stream",
     "text": [
      "alpha before hierarchization: [1.00000000000000000000e+00, 7.50000000000000000000e-01, 7.50000000000000000000e-01, 4.37500000000000000000e-01, 9.37500000000000000000e-01, 9.37500000000000000000e-01, 4.37500000000000000000e-01, 7.50000000000000000000e-01, 7.50000000000000000000e-01, 4.37500000000000000000e-01, 9.37500000000000000000e-01, 9.37500000000000000000e-01, 4.37500000000000000000e-01, 5.62500000000000000000e-01, 5.62500000000000000000e-01, 5.62500000000000000000e-01, 5.62500000000000000000e-01]\n"
     ]
    }
   ],
   "source": [
    "for i in xrange(gridStorage.getSize()):\n",
    "  gp = gridStorage.getPoint(i)\n",
    "  alpha[i] = f(gp.getStandardCoordinate(0), gp.getStandardCoordinate(1))\n",
    "print \"alpha before hierarchization: {}\".format(alpha)"
   ]
  },
  {
   "cell_type": "code",
   "execution_count": 10,
   "metadata": {},
   "outputs": [
    {
     "name": "stdout",
     "output_type": "stream",
     "text": [
      "alpha after hierarchization:  [1.00000000000000000000e+00, -2.50000000000000000000e-01, -2.50000000000000000000e-01, -6.25000000000000000000e-02, -5.62500000000000000000e-01, -5.62500000000000000000e-01, -6.25000000000000000000e-02, -2.50000000000000000000e-01, -2.50000000000000000000e-01, -6.25000000000000000000e-02, -5.62500000000000000000e-01, -5.62500000000000000000e-01, -6.25000000000000000000e-02, 6.25000000000000000000e-02, 6.25000000000000000000e-02, 6.25000000000000000000e-02, 6.25000000000000000000e-02]\n"
     ]
    }
   ],
   "source": [
    "pysgpp.createOperationHierarchisation(grid).doHierarchisation(alpha)\n",
    "print \"alpha after hierarchization:  {}\".format(alpha)"
   ]
  },
  {
   "cell_type": "code",
   "execution_count": 11,
   "metadata": {},
   "outputs": [
    {
     "name": "stdout",
     "output_type": "stream",
     "text": [
      "u(0.52, 0.73) = 0.1564\n"
     ]
    }
   ],
   "source": [
    "p = pysgpp.DataVector(dim)\n",
    "p[0] = 0.52\n",
    "p[1] = 0.73\n",
    "opEval = pysgpp.createOperationEval(grid)\n",
    "print \"u(0.52, 0.73) = {}\".format(opEval.eval(alpha, p))\n"
   ]
  },
  {
   "cell_type": "code",
   "execution_count": null,
   "metadata": {},
   "outputs": [],
   "source": []
  }
 ],
 "metadata": {
  "kernelspec": {
   "display_name": "Python 2",
   "language": "python",
   "name": "python2"
  },
  "language_info": {
   "codemirror_mode": {
    "name": "ipython",
    "version": 2
   },
   "file_extension": ".py",
   "mimetype": "text/x-python",
   "name": "python",
   "nbconvert_exporter": "python",
   "pygments_lexer": "ipython2",
   "version": "2.7.12"
  }
 },
 "nbformat": 4,
 "nbformat_minor": 2
}
