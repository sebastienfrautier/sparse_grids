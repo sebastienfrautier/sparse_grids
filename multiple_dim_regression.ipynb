{
 "cells": [
  {
   "cell_type": "code",
   "execution_count": 47,
   "metadata": {},
   "outputs": [],
   "source": [
    "import ast\n",
    "\n",
    "import numpy as np\n",
    "import pandas as pd\n",
    "\n",
    "from pysgpp.extensions.datadriven.learner import LearnerBuilder\n",
    "from pysgpp.extensions.datadriven.uq.plot.plot1d import plotSG1d\n",
    "from pysgpp.extensions.datadriven.uq.plot.plot2d import plotSG2d\n",
    "\n",
    "import matplotlib.pyplot as plt"
   ]
  },
  {
   "cell_type": "code",
   "execution_count": 48,
   "metadata": {},
   "outputs": [],
   "source": [
    "filename = 'output.csv'\n",
    "\n",
    "df = pd.read_csv(filename, header = None, names = ['params', 'time'])\n",
    "df.params = df.params.apply(ast.literal_eval)\n",
    "\n",
    "for param in df.iloc[0].params.keys():\n",
    "    df[param] = df.params.apply(lambda row: row[param])\n",
    "    \n",
    "df['density'] = (df.MOL_X*df.MOL_Y)/(df.DOMAIN_SIZE_X*df.DOMAIN_SIZE_Y)\n",
    "del df['params']"
   ]
  },
  {
   "cell_type": "code",
   "execution_count": 49,
   "metadata": {},
   "outputs": [
    {
     "data": {
      "text/html": [
       "<div>\n",
       "<style scoped>\n",
       "    .dataframe tbody tr th:only-of-type {\n",
       "        vertical-align: middle;\n",
       "    }\n",
       "\n",
       "    .dataframe tbody tr th {\n",
       "        vertical-align: top;\n",
       "    }\n",
       "\n",
       "    .dataframe thead th {\n",
       "        text-align: right;\n",
       "    }\n",
       "</style>\n",
       "<table border=\"1\" class=\"dataframe\">\n",
       "  <thead>\n",
       "    <tr style=\"text-align: right;\">\n",
       "      <th></th>\n",
       "      <th>time</th>\n",
       "      <th>DOMAIN_SIZE_X</th>\n",
       "      <th>TEMP</th>\n",
       "      <th>DOMAIN_SIZE_Y</th>\n",
       "      <th>DELTA_T</th>\n",
       "      <th>V_x</th>\n",
       "      <th>V_y</th>\n",
       "      <th>LINKED_CELL_SIZE_Y</th>\n",
       "      <th>LINKED_CELL_SIZE_X</th>\n",
       "      <th>DOMAIN_SIZE</th>\n",
       "      <th>MOL_X</th>\n",
       "      <th>MOL_Y</th>\n",
       "      <th>CUTOFF_RADIUS</th>\n",
       "      <th>TIMESTEPS</th>\n",
       "      <th>BLOCK_SIZE</th>\n",
       "      <th>density</th>\n",
       "    </tr>\n",
       "  </thead>\n",
       "  <tbody>\n",
       "    <tr>\n",
       "      <th>0</th>\n",
       "      <td>NaN</td>\n",
       "      <td>59</td>\n",
       "      <td>2.5</td>\n",
       "      <td>59</td>\n",
       "      <td>0.002</td>\n",
       "      <td>1</td>\n",
       "      <td>1.5</td>\n",
       "      <td>37.75</td>\n",
       "      <td>38.25</td>\n",
       "      <td>5</td>\n",
       "      <td>85</td>\n",
       "      <td>56</td>\n",
       "      <td>17.25</td>\n",
       "      <td>1000</td>\n",
       "      <td>14.75</td>\n",
       "      <td>1.367423</td>\n",
       "    </tr>\n",
       "    <tr>\n",
       "      <th>1</th>\n",
       "      <td>NaN</td>\n",
       "      <td>59</td>\n",
       "      <td>2.5</td>\n",
       "      <td>59</td>\n",
       "      <td>0.002</td>\n",
       "      <td>1</td>\n",
       "      <td>1.5</td>\n",
       "      <td>35.75</td>\n",
       "      <td>36.25</td>\n",
       "      <td>5</td>\n",
       "      <td>89</td>\n",
       "      <td>47</td>\n",
       "      <td>17.50</td>\n",
       "      <td>1000</td>\n",
       "      <td>14.75</td>\n",
       "      <td>1.201666</td>\n",
       "    </tr>\n",
       "    <tr>\n",
       "      <th>2</th>\n",
       "      <td>NaN</td>\n",
       "      <td>59</td>\n",
       "      <td>2.5</td>\n",
       "      <td>59</td>\n",
       "      <td>0.002</td>\n",
       "      <td>1</td>\n",
       "      <td>1.5</td>\n",
       "      <td>36.00</td>\n",
       "      <td>36.25</td>\n",
       "      <td>5</td>\n",
       "      <td>65</td>\n",
       "      <td>83</td>\n",
       "      <td>17.25</td>\n",
       "      <td>1000</td>\n",
       "      <td>14.75</td>\n",
       "      <td>1.549842</td>\n",
       "    </tr>\n",
       "    <tr>\n",
       "      <th>3</th>\n",
       "      <td>179.755897</td>\n",
       "      <td>59</td>\n",
       "      <td>2.5</td>\n",
       "      <td>59</td>\n",
       "      <td>0.002</td>\n",
       "      <td>1</td>\n",
       "      <td>1.5</td>\n",
       "      <td>36.50</td>\n",
       "      <td>37.75</td>\n",
       "      <td>5</td>\n",
       "      <td>49</td>\n",
       "      <td>51</td>\n",
       "      <td>17.50</td>\n",
       "      <td>1000</td>\n",
       "      <td>14.75</td>\n",
       "      <td>0.717897</td>\n",
       "    </tr>\n",
       "    <tr>\n",
       "      <th>4</th>\n",
       "      <td>669.340109</td>\n",
       "      <td>59</td>\n",
       "      <td>2.5</td>\n",
       "      <td>59</td>\n",
       "      <td>0.002</td>\n",
       "      <td>1</td>\n",
       "      <td>1.5</td>\n",
       "      <td>39.00</td>\n",
       "      <td>37.75</td>\n",
       "      <td>5</td>\n",
       "      <td>78</td>\n",
       "      <td>63</td>\n",
       "      <td>17.00</td>\n",
       "      <td>1000</td>\n",
       "      <td>14.75</td>\n",
       "      <td>1.411663</td>\n",
       "    </tr>\n",
       "  </tbody>\n",
       "</table>\n",
       "</div>"
      ],
      "text/plain": [
       "         time  DOMAIN_SIZE_X  TEMP  DOMAIN_SIZE_Y  DELTA_T  V_x  V_y  \\\n",
       "0         NaN             59   2.5             59    0.002    1  1.5   \n",
       "1         NaN             59   2.5             59    0.002    1  1.5   \n",
       "2         NaN             59   2.5             59    0.002    1  1.5   \n",
       "3  179.755897             59   2.5             59    0.002    1  1.5   \n",
       "4  669.340109             59   2.5             59    0.002    1  1.5   \n",
       "\n",
       "   LINKED_CELL_SIZE_Y  LINKED_CELL_SIZE_X  DOMAIN_SIZE  MOL_X  MOL_Y  \\\n",
       "0               37.75               38.25            5     85     56   \n",
       "1               35.75               36.25            5     89     47   \n",
       "2               36.00               36.25            5     65     83   \n",
       "3               36.50               37.75            5     49     51   \n",
       "4               39.00               37.75            5     78     63   \n",
       "\n",
       "   CUTOFF_RADIUS  TIMESTEPS  BLOCK_SIZE   density  \n",
       "0          17.25       1000       14.75  1.367423  \n",
       "1          17.50       1000       14.75  1.201666  \n",
       "2          17.25       1000       14.75  1.549842  \n",
       "3          17.50       1000       14.75  0.717897  \n",
       "4          17.00       1000       14.75  1.411663  "
      ]
     },
     "execution_count": 49,
     "metadata": {},
     "output_type": "execute_result"
    }
   ],
   "source": [
    "df.head()"
   ]
  },
  {
   "cell_type": "code",
   "execution_count": 53,
   "metadata": {},
   "outputs": [],
   "source": [
    "params = ['DOMAIN_SIZE_X', 'DOMAIN_SIZE_Y', 'MOL_X', 'MOL_Y', 'LINKED_CELL_SIZE_X', 'LINKED_CELL_SIZE_Y',\n",
    "          'BLOCK_SIZE', 'CUTOFF_RADIUS', 'density']"
   ]
  },
  {
   "cell_type": "code",
   "execution_count": 66,
   "metadata": {},
   "outputs": [],
   "source": [
    "num_samples = df.shape[0]\n",
    "\n",
    "X = df[params].values\n",
    "Y = df.time.values"
   ]
  },
  {
   "cell_type": "code",
   "execution_count": 88,
   "metadata": {},
   "outputs": [
    {
     "data": {
      "text/plain": [
       "<pysgpp.pysgpp_swig.DataVector; proxy of <Swig Object of type 'sgpp::base::DataVector *' at 0x7fd9d6044b40> >"
      ]
     },
     "execution_count": 88,
     "metadata": {},
     "output_type": "execute_result"
    }
   ],
   "source": [
    "levels = 5 \n",
    "num_dims = len(params)\n",
    "\n",
    "builder = LearnerBuilder()\n",
    "builder.buildRegressor()\n",
    "builder.withTrainingDataFromNumPyArray(X, Y)\n",
    "builder = builder.withGrid()\n",
    "builder.withLevel(levels)\n",
    "builder = builder.withSpecification()\n",
    "builder.withLambda(0.0001)\n",
    "\n",
    "builder.withIdentityOperator()\n",
    "builder = builder.withStopPolicy()\n",
    "builder = builder.withCGSolver()\n",
    "builder.withAccuracy(0.000100)\n",
    "builder.withImax(500)\n",
    "learner = builder.andGetResult()\n",
    "\n",
    "learner.learnData()"
   ]
  },
  {
   "cell_type": "code",
   "execution_count": 74,
   "metadata": {},
   "outputs": [
    {
     "data": {
      "text/plain": [
       "array([ 0.,  0.,  0., ...,  0.,  0.,  0.])"
      ]
     },
     "execution_count": 74,
     "metadata": {},
     "output_type": "execute_result"
    }
   ],
   "source": [
    "learner.alpha.array()"
   ]
  },
  {
   "cell_type": "code",
   "execution_count": 87,
   "metadata": {},
   "outputs": [
    {
     "data": {
      "text/plain": [
       "array([[ 59.        ,  59.        ,  85.        ,  56.        ,\n",
       "         38.25      ,  37.75      ,  14.75      ,  17.25      ,\n",
       "          1.36742315],\n",
       "       [ 59.        ,  59.        ,  89.        ,  47.        ,\n",
       "         36.25      ,  35.75      ,  14.75      ,  17.5       ,\n",
       "          1.20166619],\n",
       "       [ 59.        ,  59.        ,  65.        ,  83.        ,\n",
       "         36.25      ,  36.        ,  14.75      ,  17.25      ,   1.549842  ],\n",
       "       [ 59.        ,  59.        ,  49.        ,  51.        ,\n",
       "         37.75      ,  36.5       ,  14.75      ,  17.5       ,\n",
       "          0.71789716],\n",
       "       [ 59.        ,  59.        ,  78.        ,  63.        ,\n",
       "         37.75      ,  39.        ,  14.75      ,  17.        ,\n",
       "          1.41166332]])"
      ]
     },
     "execution_count": 87,
     "metadata": {},
     "output_type": "execute_result"
    }
   ],
   "source": [
    "X"
   ]
  },
  {
   "cell_type": "code",
   "execution_count": null,
   "metadata": {},
   "outputs": [],
   "source": []
  }
 ],
 "metadata": {
  "kernelspec": {
   "display_name": "Python 2",
   "language": "python",
   "name": "python2"
  },
  "language_info": {
   "codemirror_mode": {
    "name": "ipython",
    "version": 2
   },
   "file_extension": ".py",
   "mimetype": "text/x-python",
   "name": "python",
   "nbconvert_exporter": "python",
   "pygments_lexer": "ipython2",
   "version": "2.7.12"
  }
 },
 "nbformat": 4,
 "nbformat_minor": 2
}
