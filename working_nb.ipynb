{
 "cells": [
  {
   "cell_type": "code",
   "execution_count": 119,
   "metadata": {},
   "outputs": [
    {
     "name": "stdout",
     "output_type": "stream",
     "text": [
      "Populating the interactive namespace from numpy and matplotlib\n"
     ]
    }
   ],
   "source": [
    "import ast\n",
    "\n",
    "import numpy as np\n",
    "import pandas as pd\n",
    "import pysgpp as pysgpp\n",
    "from sklearn.model_selection import train_test_split\n",
    "\n",
    "\n",
    "from pysgpp.extensions.datadriven.learner import Types\n",
    "from pysgpp.extensions.datadriven.learner import LearnerBuilder\n",
    "from pysgpp.extensions.datadriven.uq.plot.plot1d import plotSG1d\n",
    "from pysgpp.extensions.datadriven.uq.plot.plot2d import plotSG2d,plotGrid2d\n",
    "from pysgpp.extensions.datadriven.uq.plot.plot3d import plotSG3d\n",
    "from pysgpp.extensions.datadriven.uq.plot.plotGrid import plotGrid\n",
    "\n",
    "from pysgpp.extensions.datadriven.learner.folding import RandomFoldingPolicy\n",
    "\n",
    "#from learner.builder.RegressorSpecificationDescriptor.FoldingStrategy import RANDOM\n",
    "\n",
    "import matplotlib.pyplot as plt\n",
    "from sklearn import preprocessing\n",
    "plt.style.use('ggplot')\n",
    "%pylab inline\n",
    "pylab.rcParams['figure.figsize'] = (20, 12)"
   ]
  },
  {
   "cell_type": "code",
   "execution_count": 59,
   "metadata": {},
   "outputs": [],
   "source": [
    "#filename = 'output_100_configs.csv'\n",
    "#filename = '2D_param_space_times.csv'\n",
    "filename = '1000_runs_8D_param_room.csv'\n",
    "\n",
    "\n",
    "df = pd.read_csv(filename, header = None, names = ['params', 'time'])\n",
    "df.params = df.params.apply(ast.literal_eval)\n",
    "\n",
    "for param in df.iloc[0].params.keys():\n",
    "    df[param] = df.params.apply(lambda row: row[param])\n",
    "    \n",
    "df['density'] = (df.MOL_X*df.MOL_Y)/(df.DOMAIN_SIZE_X*df.DOMAIN_SIZE_Y)\n",
    "del df['params']\n",
    "df = df[df.time > 0]"
   ]
  },
  {
   "cell_type": "code",
   "execution_count": 60,
   "metadata": {},
   "outputs": [],
   "source": [
    "def normalize(df):\n",
    "    result = df.copy()\n",
    "    for feature_name in df.columns:\n",
    "        max_value = df[feature_name].max()\n",
    "        min_value = df[feature_name].min()\n",
    "        result[feature_name] = (df[feature_name] - min_value) / (max_value - min_value)\n",
    "    return result"
   ]
  },
  {
   "cell_type": "code",
   "execution_count": 61,
   "metadata": {},
   "outputs": [],
   "source": [
    "columns = ['DOMAIN_SIZE_X', 'DOMAIN_SIZE_Y', 'MOL_X', 'MOL_Y', 'LINKED_CELL_SIZE_X', 'LINKED_CELL_SIZE_Y',\n",
    "          'BLOCK_SIZE', 'CUTOFF_RADIUS', 'density','time']"
   ]
  },
  {
   "cell_type": "code",
   "execution_count": 62,
   "metadata": {},
   "outputs": [],
   "source": [
    "params_ = ['CUTOFF_RADIUS', 'density', 'MOL_Y','MOL_X','DOMAIN_SIZE_Y'\n",
    "          ,'DOMAIN_SIZE_X','MOL_X','LINKED_CELL_SIZE_X', 'LINKED_CELL_SIZE_Y']"
   ]
  },
  {
   "cell_type": "code",
   "execution_count": 63,
   "metadata": {},
   "outputs": [],
   "source": [
    "params_2 = ['density','LINKED_CELL_SIZE_Y']"
   ]
  },
  {
   "cell_type": "code",
   "execution_count": 64,
   "metadata": {},
   "outputs": [],
   "source": [
    "params_4 = ['density','CUTOFF_RADIUS']"
   ]
  },
  {
   "cell_type": "code",
   "execution_count": 79,
   "metadata": {},
   "outputs": [],
   "source": [
    "#df[df.time > 0][params_]"
   ]
  },
  {
   "cell_type": "code",
   "execution_count": 86,
   "metadata": {},
   "outputs": [],
   "source": [
    "normalized_df = normalize(df[df.time > 0][columns])\n",
    "train, test = train_test_split(normalized_df, test_size=0.2)\n",
    "num_samples = train.shape[0]"
   ]
  },
  {
   "cell_type": "code",
   "execution_count": 87,
   "metadata": {},
   "outputs": [],
   "source": [
    "X_train = train[params_].values\n",
    "Y_train = train['time'].values"
   ]
  },
  {
   "cell_type": "code",
   "execution_count": 88,
   "metadata": {},
   "outputs": [],
   "source": [
    "X_test = test[params_].values\n",
    "Y_test = test['time'].values"
   ]
  },
  {
   "cell_type": "code",
   "execution_count": 93,
   "metadata": {},
   "outputs": [
    {
     "data": {
      "text/plain": [
       "(599, 9)"
      ]
     },
     "execution_count": 93,
     "metadata": {},
     "output_type": "execute_result"
    }
   ],
   "source": [
    "X_train.shape"
   ]
  },
  {
   "cell_type": "code",
   "execution_count": 154,
   "metadata": {},
   "outputs": [
    {
     "name": "stdout",
     "output_type": "stream",
     "text": [
      "Test accuracy:[0.017226603272158032]\n",
      "Level: 1\n",
      "L2Norm: 1.607480\n",
      "MaxError: 0.588813\n",
      "MinError: 0.001064\n",
      "Error: 0.020180\n",
      "RMSerror: 0.071566\n",
      "Grid size BEFORE refinement: 1\n",
      "Refining grid.. \n",
      "Grid size AFTER refinement: 19\n",
      "Test accuracy:[0.017226603272158032]\n",
      "L2Norm: 1.604254\n",
      "MaxError: 0.493885\n",
      "MinError: 0.000088\n",
      "Error: 0.004297\n",
      "RMSerror: 0.017505\n",
      "--------------------------------------------\n",
      "Test accuracy:[0.0034818388711247545]\n",
      "Level: 2\n",
      "L2Norm: 0.722687\n",
      "MaxError: 0.306497\n",
      "MinError: 0.000241\n",
      "Error: 0.004297\n",
      "RMSerror: 0.017505\n",
      "Grid size BEFORE refinement: 19\n",
      "Refining grid.. \n",
      "Grid size AFTER refinement: 199\n",
      "Test accuracy:[0.0034818388711247545]\n",
      "L2Norm: 0.859448\n",
      "MaxError: 0.257240\n",
      "MinError: 0.000035\n",
      "Error: 0.001233\n",
      "RMSerror: 0.004375\n",
      "--------------------------------------------\n"
     ]
    }
   ],
   "source": [
    "for levels in range(1, 3):\n",
    "    builder = LearnerBuilder()\n",
    "    builder.buildRegressor()\n",
    "    builder.withTrainingDataFromNumPyArray(X_train, Y_train)\n",
    "    builder.withTestingDataFromNumPyArray(X_test, Y_test)\n",
    "    builder = builder.withGrid().withBorder(Types.BorderTypes.NONE)\n",
    "    builder.withLevel(levels)\n",
    "    builder = builder.withSpecification()\n",
    "    builder.withLambda(0.000001).withAdaptPoints(100)\n",
    "    \n",
    "    #builder.withRandomFoldingPolicy().withLevel(4)\n",
    "\n",
    "    builder.withIdentityOperator()\n",
    "    builder = builder.withStopPolicy()\n",
    "    builder = builder.withCGSolver()\n",
    "    builder.withAccuracy(0.0001)\n",
    "    builder.withImax(1000)\n",
    "    learner = builder.andGetResult()\n",
    "    \n",
    "    \n",
    "\n",
    "    #learner.learnData()\n",
    "    #learner.learnDataWithFolding()\n",
    "    learner.learnDataWithTest()\n",
    "    print 'Test accuracy:' + str(learner.testAccuracy)\n",
    "    print 'Level: %i' % levels\n",
    "    print 'L2Norm: %f' % learner.getL2NormError()\n",
    "    print 'MaxError: %f' % learner.getMaxError()\n",
    "    print 'MinError: %f' % learner.getMinError()\n",
    "    print 'Error: %f' % learner.evalError(learner.dataContainer,learner.alpha)\n",
    "    print 'RMSerror: %f' % learner.error.RMSNorm()\n",
    "    print 'Grid size BEFORE refinement: %i' % learner.grid.getSize()\n",
    "    print 'Refining grid.. '\n",
    "    learner.refineGrid()\n",
    "    learner.learnData()\n",
    "    print 'Grid size AFTER refinement: %i' % learner.grid.getSize()\n",
    "    print 'Test accuracy:' + str(learner.testAccuracy)\n",
    "    print 'L2Norm: %f' % learner.getL2NormError()\n",
    "    print 'MaxError: %f' % learner.getMaxError()\n",
    "    print 'MinError: %f' % learner.getMinError()\n",
    "    print 'Error: %f' % learner.evalError(learner.dataContainer,learner.alpha)\n",
    "    print 'RMSerror: %f' % learner.error.RMSNorm()\n",
    "    print '--------------------------------------------'"
   ]
  },
  {
   "cell_type": "code",
   "execution_count": null,
   "metadata": {},
   "outputs": [],
   "source": []
  }
 ],
 "metadata": {
  "kernelspec": {
   "display_name": "Python 2",
   "language": "python",
   "name": "python2"
  },
  "language_info": {
   "codemirror_mode": {
    "name": "ipython",
    "version": 2
   },
   "file_extension": ".py",
   "mimetype": "text/x-python",
   "name": "python",
   "nbconvert_exporter": "python",
   "pygments_lexer": "ipython2",
   "version": "2.7.12"
  }
 },
 "nbformat": 4,
 "nbformat_minor": 2
}
