{
 "cells": [
  {
   "cell_type": "code",
   "execution_count": 1,
   "metadata": {},
   "outputs": [
    {
     "name": "stdout",
     "output_type": "stream",
     "text": [
      "Populating the interactive namespace from numpy and matplotlib\n"
     ]
    }
   ],
   "source": [
    "import ast\n",
    "\n",
    "import numpy as np\n",
    "import pandas as pd\n",
    "import pysgpp as pysgpp\n",
    "\n",
    "from pysgpp.extensions.datadriven.learner import Types\n",
    "from pysgpp.extensions.datadriven.learner import LearnerBuilder\n",
    "from pysgpp.extensions.datadriven.uq.plot.plot1d import plotSG1d\n",
    "from pysgpp.extensions.datadriven.uq.plot.plot2d import plotSG2d,plotGrid2d\n",
    "from pysgpp.extensions.datadriven.uq.plot.plot3d import plotSG3d\n",
    "from pysgpp.extensions.datadriven.uq.plot.plotGrid import plotGrid\n",
    "\n",
    "import matplotlib.pyplot as plt\n",
    "from sklearn import preprocessing\n",
    "plt.style.use('ggplot')\n",
    "%pylab inline\n",
    "pylab.rcParams['figure.figsize'] = (20, 12)"
   ]
  },
  {
   "cell_type": "code",
   "execution_count": 2,
   "metadata": {},
   "outputs": [],
   "source": [
    "#filename = 'output_100_configs.csv'\n",
    "filename = '2D_param_space_times.csv'\n",
    "\n",
    "\n",
    "df = pd.read_csv(filename, header = None, names = ['params', 'time'])\n",
    "df.params = df.params.apply(ast.literal_eval)\n",
    "\n",
    "for param in df.iloc[0].params.keys():\n",
    "    df[param] = df.params.apply(lambda row: row[param])\n",
    "    \n",
    "df['density'] = (df.MOL_X*df.MOL_Y)/(df.DOMAIN_SIZE_X*df.DOMAIN_SIZE_Y)\n",
    "del df['params']\n",
    "df = df[df.time > 0]"
   ]
  },
  {
   "cell_type": "code",
   "execution_count": 3,
   "metadata": {},
   "outputs": [],
   "source": [
    "def normalize(df):\n",
    "    result = df.copy()\n",
    "    for feature_name in df.columns:\n",
    "        max_value = df[feature_name].max()\n",
    "        min_value = df[feature_name].min()\n",
    "        result[feature_name] = (df[feature_name] - min_value) / (max_value - min_value)\n",
    "    return result"
   ]
  },
  {
   "cell_type": "code",
   "execution_count": 4,
   "metadata": {},
   "outputs": [],
   "source": [
    "columns = ['DOMAIN_SIZE_X', 'DOMAIN_SIZE_Y', 'MOL_X', 'MOL_Y', 'LINKED_CELL_SIZE_X', 'LINKED_CELL_SIZE_Y',\n",
    "          'BLOCK_SIZE', 'CUTOFF_RADIUS', 'density','time']"
   ]
  },
  {
   "cell_type": "code",
   "execution_count": 22,
   "metadata": {},
   "outputs": [],
   "source": [
    "params_ = ['CUTOFF_RADIUS', 'density', 'MOL_Y','MOL_X','DOMAIN_SIZE_Y'\n",
    "          ,'DOMAIN_SIZE_X','MOL_X','LINKED_CELL_SIZE_X', 'LINKED_CELL_SIZE_Y',]"
   ]
  },
  {
   "cell_type": "code",
   "execution_count": 23,
   "metadata": {},
   "outputs": [],
   "source": [
    "params_2 = ['density','LINKED_CELL_SIZE_Y']"
   ]
  },
  {
   "cell_type": "code",
   "execution_count": 24,
   "metadata": {},
   "outputs": [],
   "source": [
    "params_4 = ['density','CUTOFF_RADIUS']"
   ]
  },
  {
   "cell_type": "code",
   "execution_count": 25,
   "metadata": {},
   "outputs": [],
   "source": [
    "normalized_df = normalize(df[columns])\n",
    "num_samples = normalized_df.shape[0]"
   ]
  },
  {
   "cell_type": "code",
   "execution_count": 26,
   "metadata": {},
   "outputs": [],
   "source": [
    "X = normalized_df[params_].values\n",
    "Y = normalized_df['time'].values"
   ]
  },
  {
   "cell_type": "code",
   "execution_count": 27,
   "metadata": {},
   "outputs": [
    {
     "name": "stdout",
     "output_type": "stream",
     "text": [
      "(100, 9)\n"
     ]
    }
   ],
   "source": [
    "numDims = X.shape[1]\n",
    "print X.shape"
   ]
  },
  {
   "cell_type": "code",
   "execution_count": 28,
   "metadata": {},
   "outputs": [
    {
     "name": "stdout",
     "output_type": "stream",
     "text": [
      "Level: 1\n",
      "L2Norm: 2.259309\n",
      "MaxError: 0.759811\n",
      "MinError: 0.000015\n",
      "Error: 0.051045\n",
      "RMSerror: 0.109189\n",
      "Grid size BEFORE refinement: 1\n",
      "Refining grid.. \n",
      "Grid size AFTER refinement: 19\n",
      "L2Norm: 0.538665\n",
      "MaxError: 0.198511\n",
      "MinError: 0.000203\n",
      "Error: 0.002902\n",
      "RMSerror: 0.006640\n",
      "--------------------------------------------\n",
      "Level: 2\n",
      "L2Norm: 0.538665\n",
      "MaxError: 0.198511\n",
      "MinError: 0.000203\n",
      "Error: 0.002902\n",
      "RMSerror: 0.006640\n",
      "Grid size BEFORE refinement: 19\n",
      "Refining grid.. \n",
      "Grid size AFTER refinement: 199\n",
      "L2Norm: 0.315026\n",
      "MaxError: 0.121987\n",
      "MinError: 0.000271\n",
      "Error: 0.000992\n",
      "RMSerror: 0.002279\n",
      "--------------------------------------------\n",
      "Level: 3\n",
      "L2Norm: 0.315023\n",
      "MaxError: 0.121841\n",
      "MinError: 0.000225\n",
      "Error: 0.000992\n",
      "RMSerror: 0.002277\n",
      "Grid size BEFORE refinement: 199\n",
      "Refining grid.. \n",
      "Grid size AFTER refinement: 1310\n",
      "L2Norm: 0.016127\n",
      "MaxError: 0.005687\n",
      "MinError: 0.000005\n",
      "Error: 0.000003\n",
      "RMSerror: 0.000006\n",
      "--------------------------------------------\n"
     ]
    }
   ],
   "source": [
    "for levels in range(1, 4):\n",
    "    builder = LearnerBuilder()\n",
    "    builder.buildRegressor()\n",
    "    builder.withTrainingDataFromNumPyArray(X, Y)\n",
    "    builder = builder.withGrid().withBorder(Types.BorderTypes.NONE)\n",
    "    builder.withLevel(levels)\n",
    "    builder = builder.withSpecification()\n",
    "    builder.withLambda(0.0000001).withAdaptPoints(100)\n",
    "\n",
    "    builder.withIdentityOperator()\n",
    "    builder = builder.withStopPolicy()\n",
    "    builder = builder.withCGSolver()\n",
    "    builder.withAccuracy(0.0001)\n",
    "    builder.withImax(1000)\n",
    "    learner = builder.andGetResult()\n",
    "\n",
    "    learner.learnData()\n",
    "    print 'Level: %i' % levels\n",
    "    print 'L2Norm: %f' % learner.getL2NormError()\n",
    "    print 'MaxError: %f' % learner.getMaxError()\n",
    "    print 'MinError: %f' % learner.getMinError()\n",
    "    print 'Error: %f' % learner.evalError(learner.dataContainer,learner.alpha)\n",
    "    print 'RMSerror: %f' % learner.error.RMSNorm()\n",
    "    print 'Grid size BEFORE refinement: %i' % learner.grid.getSize()\n",
    "    print 'Refining grid.. '\n",
    "    learner.refineGrid()\n",
    "    learner.learnData()\n",
    "    print 'Grid size AFTER refinement: %i' % learner.grid.getSize()\n",
    "    print 'L2Norm: %f' % learner.getL2NormError()\n",
    "    print 'MaxError: %f' % learner.getMaxError()\n",
    "    print 'MinError: %f' % learner.getMinError()\n",
    "    print 'Error: %f' % learner.evalError(learner.dataContainer,learner.alpha)\n",
    "    print 'RMSerror: %f' % learner.error.RMSNorm()\n",
    "    print '--------------------------------------------'"
   ]
  },
  {
   "cell_type": "code",
   "execution_count": null,
   "metadata": {},
   "outputs": [],
   "source": []
  }
 ],
 "metadata": {
  "kernelspec": {
   "display_name": "Python 2",
   "language": "python",
   "name": "python2"
  },
  "language_info": {
   "codemirror_mode": {
    "name": "ipython",
    "version": 2
   },
   "file_extension": ".py",
   "mimetype": "text/x-python",
   "name": "python",
   "nbconvert_exporter": "python",
   "pygments_lexer": "ipython2",
   "version": "2.7.12"
  }
 },
 "nbformat": 4,
 "nbformat_minor": 2
}
